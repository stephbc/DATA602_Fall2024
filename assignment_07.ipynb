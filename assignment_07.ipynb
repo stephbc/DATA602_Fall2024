{
 "cells": [
  {
   "cell_type": "markdown",
   "metadata": {},
   "source": [
    "## DATA 602 Fall 2024 - Assignment 7\n",
    "### Stephanie Chiang\n",
    "\n",
    "## NYC SHSAT\n",
    "\n",
    "For this assignment, I will examine the NYC middle schools and the numbers of students who \"participated in High School Admissions, the number of those students who took the Specialized High Schools Admissions Test (SHSAT) and the number who received an offer to one of the 8 testing Specialized High Schools\" for the 2020-2021 school year.\n",
    "\n",
    "The raw file for the *2020-2021 SHSAT Admissions Test Offers By Sending School*, provided by the NYC Department of Education, is available for download [here](\"https://data.cityofnewyork.us/Education/2020-2021-SHSAT-Admissions-Test-Offers-By-Sending-/k8ah-28f4/about_data\").\n",
    "\n",
    "\n",
    "### Data Exploration\n",
    "\n",
    "- importing the dataset and creating dataframes\n",
    "- missing value information\n",
    "- relevant information about the dataset\n",
    "- summary statistics means, medians, quartiles"
   ]
  },
  {
   "cell_type": "code",
   "execution_count": 142,
   "metadata": {},
   "outputs": [
    {
     "name": "stdout",
     "output_type": "stream",
     "text": [
      "DBN         0\n",
      "school      0\n",
      "hs_bound    0\n",
      "testers     0\n",
      "offers      0\n",
      "dtype: int64\n",
      "(658, 5)\n",
      "DBN         object\n",
      "school      object\n",
      "hs_bound    object\n",
      "testers     object\n",
      "offers      object\n",
      "dtype: object\n"
     ]
    }
   ],
   "source": [
    "import pandas as pd\n",
    "\n",
    "data = pd.read_csv(\"2021shsat.csv\")\n",
    "\n",
    "# modifying multiple column names to more code-friendly format\n",
    "data.rename(\n",
    "  columns = {\n",
    "    \"Feeder School DBN\": \"DBN\",\n",
    "    \"Feeder School Name\": \"school\",\n",
    "    \"Count of Students in HS Admissions\": \"hs_bound\",\n",
    "    \"Count of Testers\": \"testers\",\n",
    "    \"Number of Offers\": \"offers\"\n",
    "  },\n",
    "  inplace = True\n",
    ")\n",
    "\n",
    "print(data.isna().sum())\n",
    "# there appears to be no missing data\n",
    "\n",
    "print(data.shape)\n",
    "# there are 658 rows (observations) and 5 columns:\n",
    "# the middle school's District/Borough Number\n",
    "# the name of the middle school\n",
    "# the number of students who participated in HS admissions\n",
    "# the number of students who took the SHSAT\n",
    "# and the number of students who received an offer from a specialized HS\n",
    "\n",
    "print(data.dtypes)\n",
    "# all the columns are listed as 'object' which indicates mixed types or categorical features\n",
    "# this is because '0-5' appears as a (very common) possible value\n",
    "# so pandas was unable to automatically convert these columns to integer types"
   ]
  },
  {
   "cell_type": "markdown",
   "metadata": {},
   "source": [
    "\n",
    "The last 3 columns include values of \"0-5\" for any count of 5 students or fewer. There are a few different ways this could be handled, but for the sake of calculating summary statistics, I will convert these columns to floats, with a mean of 2.5 for the \"0-5\" values. Since there are no half-students counted in the original data, this means they can still be grouped easily from the rest of the data."
   ]
  },
  {
   "cell_type": "code",
   "execution_count": 143,
   "metadata": {},
   "outputs": [
    {
     "name": "stdout",
     "output_type": "stream",
     "text": [
      "DBN          object\n",
      "school       object\n",
      "hs_bound    float64\n",
      "testers     float64\n",
      "offers      float64\n",
      "dtype: object\n",
      "      DBN                                          school  hs_bound  testers  \\\n",
      "0  01M034         P.S. 034 FRANKLIN D. ROOSEVELT (01M034)      44.0      2.5   \n",
      "1  01M140                 P.S. 140 NATHAN STRAUS (01M140)      56.0      9.0   \n",
      "2  01M184                   P.S. 184M SHUANG WEN (01M184)     112.0     79.0   \n",
      "3  01M188             P.S. 188 THE ISLAND SCHOOL (01M188)      49.0      2.5   \n",
      "4  01M332  UNIVERSITY NEIGHBORHOOD MIDDLE SCHOOL (01M332)      70.0     10.0   \n",
      "\n",
      "   offers  \n",
      "0     2.5  \n",
      "1     2.5  \n",
      "2    29.0  \n",
      "3     2.5  \n",
      "4     2.5  \n"
     ]
    }
   ],
   "source": [
    "# convert variables to proper types\n",
    "\n",
    "data[\"hs_bound\"] = data[\"hs_bound\"].where(data[\"hs_bound\"] != \"0-5\", \"2.5\")\n",
    "data[\"testers\"] = data[\"testers\"].where(data[\"testers\"] != \"0-5\", \"2.5\")\n",
    "data[\"offers\"] = data[\"offers\"].where(data[\"offers\"] != \"0-5\", \"2.5\")\n",
    "\n",
    "data[[\"hs_bound\", \"testers\", \"offers\"]] = data[[\"hs_bound\", \"testers\", \"offers\"]].astype(float)\n",
    "\n",
    "print(data.dtypes)\n",
    "print(data.head(5))\n",
    "\n",
    "# summary statistics: mean, median and quantile\n",
    "print(data.describe())"
   ]
  },
  {
   "cell_type": "markdown",
   "metadata": {},
   "source": [
    "### DATA WRANGLING"
   ]
  },
  {
   "cell_type": "code",
   "execution_count": 145,
   "metadata": {},
   "outputs": [
    {
     "name": "stdout",
     "output_type": "stream",
     "text": [
      "      DBN                                          school  hs_bound  testers  \\\n",
      "0  01M034         P.S. 034 FRANKLIN D. ROOSEVELT (01M034)      44.0      2.5   \n",
      "1  01M140                 P.S. 140 NATHAN STRAUS (01M140)      56.0      9.0   \n",
      "2  01M184                   P.S. 184M SHUANG WEN (01M184)     112.0     79.0   \n",
      "3  01M188             P.S. 188 THE ISLAND SCHOOL (01M188)      49.0      2.5   \n",
      "4  01M332  UNIVERSITY NEIGHBORHOOD MIDDLE SCHOOL (01M332)      70.0     10.0   \n",
      "\n",
      "   offers  pct_testers  pct_offers  \n",
      "0     2.5     0.056818    0.056818  \n",
      "1     2.5     0.160714    0.044643  \n",
      "2    29.0     0.705357    0.258929  \n",
      "3     2.5     0.051020    0.051020  \n",
      "4     2.5     0.142857    0.035714  \n",
      "(657, 6)\n"
     ]
    }
   ],
   "source": [
    "# Create new columns based on existing columns or calculations.\n",
    "data[\"pct_testers\"] = data[\"testers\"] / data[\"hs_bound\"]\n",
    "data[\"pct_offers\"] = data[\"offers\"] / data[\"hs_bound\"]\n",
    "\n",
    "print(data.head(5))\n",
    "\n",
    "# Drop column(s) from your dataset.\n",
    "data = data.drop([\"DBN\"], axis=1)\n",
    "\n",
    "# Drop a row(s) from your dataset.\n",
    "idx_max = data['hs_bound'].idxmax()\n",
    "data_dropped_max_hs = data.drop([idx_max])\n",
    "\n",
    "print(data.shape) # there is now one less row and one less column"
   ]
  },
  {
   "cell_type": "code",
   "execution_count": 147,
   "metadata": {},
   "outputs": [
    {
     "name": "stdout",
     "output_type": "stream",
     "text": [
      "                                           school  hs_bound  testers  offers  \\\n",
      "1                 P.S. 140 NATHAN STRAUS (01M140)      56.0      9.0     2.5   \n",
      "2                   P.S. 184M SHUANG WEN (01M184)     112.0     79.0    29.0   \n",
      "4  UNIVERSITY NEIGHBORHOOD MIDDLE SCHOOL (01M332)      70.0     10.0     2.5   \n",
      "\n",
      "   pct_testers  pct_offers  \n",
      "1     0.160714    0.044643  \n",
      "2     0.705357    0.258929  \n",
      "4     0.142857    0.035714  \n",
      "                                                school  hs_bound  testers  \\\n",
      "45                        THE ANDERSON SCHOOL (03M334)      60.0     55.0   \n",
      "22   NEW YORK CITY LAB MIDDLE SCHOOL FOR COLLABORAT...     179.0    169.0   \n",
      "294     THE CHRISTA MCAULIFFE SCHOOL\\I.S. 187 (20K187)     340.0    315.0   \n",
      "\n",
      "     offers  pct_testers  pct_offers  \n",
      "45     45.0     0.916667    0.750000  \n",
      "22    117.0     0.944134    0.653631  \n",
      "294   221.0     0.926471    0.650000  \n",
      "0    p.s. 034 franklin d. roosevelt (01m034)\n",
      "1            p.s. 140 nathan straus (01m140)\n",
      "2              p.s. 184m shuang wen (01m184)\n",
      "Name: school, dtype: object\n"
     ]
    }
   ],
   "source": [
    "\n",
    "# Filter your data based on some condition.\n",
    "ignore_small_vals = data[data[\"testers\"] != 2.5]\n",
    "\n",
    "print(ignore_small_vals.head(3))\n",
    "\n",
    "# Sort your data based on multiple variables.\n",
    "ignore_small_vals = ignore_small_vals.sort_values(by=['pct_offers', 'school'], ascending=[False, True])\n",
    "\n",
    "print(ignore_small_vals.head(3))\n",
    "\n",
    "# Convert all the string values to upper or lower cases in one column.\n",
    "data_lower = data[\"school\"].str.lower()\n",
    "\n",
    "print(data_lower.head(3))\n"
   ]
  },
  {
   "cell_type": "code",
   "execution_count": 152,
   "metadata": {},
   "outputs": [
    {
     "name": "stdout",
     "output_type": "stream",
     "text": [
      "          hs_bound                   testers              \n",
      "              mean    min    max        mean    min    max\n",
      "offers                                                    \n",
      "2.5      79.878205    2.5  708.0   16.954212    2.5  164.0\n",
      "6.0     224.700000   49.0  495.0   87.300000   22.0  169.0\n",
      "7.0     219.600000   87.0  585.0   81.400000   38.0  159.0\n",
      "8.0     167.500000   60.0  368.0   55.833333   26.0  117.0\n",
      "9.0     121.444444   54.0  340.0   46.222222   28.0   93.0\n",
      "10.0    206.200000  104.0  549.0   75.400000   47.0  157.0\n",
      "11.0    199.666667   92.0  358.0   65.000000   53.0   77.0\n",
      "12.0    187.333333  105.0  316.0   66.000000   29.0   96.0\n",
      "13.0    519.000000  428.0  610.0  127.500000  123.0  132.0\n",
      "14.0    125.500000   59.0  307.0   54.000000   32.0   76.0\n",
      "15.0    104.500000   99.0  110.0   42.500000   20.0   65.0\n",
      "16.0    328.000000  151.0  505.0   99.500000   65.0  134.0\n",
      "17.0    197.200000   65.0  524.0   80.600000   49.0  153.0\n",
      "18.0    315.000000   85.0  516.0  123.400000   52.0  164.0\n",
      "19.0    439.000000  390.0  488.0  164.000000  141.0  187.0\n"
     ]
    }
   ],
   "source": [
    "\n",
    "# Group your dataset by one column, and get the mean, min, and max values by group.\n",
    "# .groupby() .agg() or .apply()\n",
    "\n",
    "grouped_data = data.groupby(\"offers\").agg({\n",
    "  \"hs_bound\": [\"mean\", \"min\", \"max\"],\n",
    "  \"testers\": [\"mean\", \"min\", \"max\"]\n",
    "})\n",
    "\n",
    "print(grouped_data.head(15))"
   ]
  },
  {
   "cell_type": "code",
   "execution_count": 156,
   "metadata": {},
   "outputs": [
    {
     "name": "stdout",
     "output_type": "stream",
     "text": [
      "                  testers               pct_testers                    \n",
      "                     mean    min    max        mean       min       max\n",
      "offers pct_offers                                                      \n",
      "110.0  0.205993     374.0  374.0  374.0    0.700375  0.700375  0.700375\n",
      "102.0  0.178634     342.0  342.0  342.0    0.598949  0.598949  0.598949\n",
      "82.0   0.141869     318.0  318.0  318.0    0.550173  0.550173  0.550173\n",
      "221.0  0.650000     315.0  315.0  315.0    0.926471  0.926471  0.926471\n",
      "151.0  0.356132     298.0  298.0  298.0    0.702830  0.702830  0.702830\n",
      "64.0   0.120983     259.0  259.0  259.0    0.489603  0.489603  0.489603\n",
      "80.0   0.167364     248.0  248.0  248.0    0.518828  0.518828  0.518828\n",
      "78.0   0.214286     233.0  233.0  233.0    0.640110  0.640110  0.640110\n",
      "73.0   0.173810     227.0  227.0  227.0    0.540476  0.540476  0.540476\n",
      "82.0   0.200980     221.0  221.0  221.0    0.541667  0.541667  0.541667\n",
      "126.0  0.480916     219.0  219.0  219.0    0.835878  0.835878  0.835878\n",
      "97.0   0.287834     219.0  219.0  219.0    0.649852  0.649852  0.649852\n",
      "37.0   0.072549     217.0  217.0  217.0    0.425490  0.425490  0.425490\n",
      "57.0   0.127517     215.0  215.0  215.0    0.480984  0.480984  0.480984\n",
      "60.0   0.110294     205.0  205.0  205.0    0.376838  0.376838  0.376838\n"
     ]
    }
   ],
   "source": [
    "# Group your dataset by two columns and then sort the aggregated results within the groups.\n",
    "\n",
    "grouped_data_2 = ignore_small_vals.groupby([\"offers\", \"pct_offers\"]).agg({\n",
    "  \"testers\": [\"mean\", \"min\", \"max\"],\n",
    "  \"pct_testers\": [\"mean\", \"min\", \"max\"]\n",
    "})\n",
    "\n",
    "grouped_data_2 = grouped_data_2.sort_values(('testers', 'mean'), ascending=False)\n",
    "\n",
    "print(grouped_data_2.head(15))"
   ]
  },
  {
   "cell_type": "markdown",
   "metadata": {},
   "source": [
    "\n",
    "### CONCLUSIONS\n",
    "The school with the highest precentage of high school boound middle schoolers receiving an offer was 'THE ANDERSON SCHOOL'. However, based on how the most common number of offers made was '0-5', it could be assumed that most schools did not have any students receive any offers.\n",
    "\n",
    "Given more time and better data, I would like to figure out why the data was listed in this way - excluding values 5 and leads to biased results and distorts the summary statistics. This may lead people to draw the wrong conclusions from the data."
   ]
  }
 ],
 "metadata": {
  "kernelspec": {
   "display_name": "Python 3",
   "language": "python",
   "name": "python3"
  },
  "language_info": {
   "codemirror_mode": {
    "name": "ipython",
    "version": 3
   },
   "file_extension": ".py",
   "mimetype": "text/x-python",
   "name": "python",
   "nbconvert_exporter": "python",
   "pygments_lexer": "ipython3",
   "version": "3.9.1"
  }
 },
 "nbformat": 4,
 "nbformat_minor": 2
}
